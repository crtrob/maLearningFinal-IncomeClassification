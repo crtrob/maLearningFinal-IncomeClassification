{
 "cells": [
  {
   "cell_type": "markdown",
   "id": "9963cd17",
   "metadata": {},
   "source": [
    "## Income (>50k / <50k) Classification: KNN, LogReg, Random Forest, XGBoost & Neural Network\n",
    "## for Loyola University New Orleans: COSC-A406-001: Machine Learning\n",
    "### Carter Roberts\n",
    "### May 4th, 2025\n",
    "\n",
    "Semester final assignment for Loyola New Orleans Machine Learning course, taking csv from https://www.kaggle.com/datasets/lodetomasi1995/income-classification kaggle dataset. Goal is to determine whether an individual makes less or equal to/more than 50k a year.\n",
    "\n",
    "## I was able to have accuracy for all attempted models above 82% for both train and test, and in neural network, maintain a train / test loss of only 0.34 / 0.34 on average."
   ]
  },
  {
   "cell_type": "code",
   "execution_count": 333,
   "id": "e6860af0",
   "metadata": {},
   "outputs": [],
   "source": [
    "# Importing libraries...\n",
    "import pandas as pd\n",
    "import numpy as np\n",
    "import matplotlib.pyplot as plt\n",
    "import torch \n",
    "import torch.nn as nn\n",
    "import torch.nn.functional as F\n",
    "from sklearn.model_selection import train_test_split"
   ]
  },
  {
   "cell_type": "code",
   "execution_count": 334,
   "id": "234afaea",
   "metadata": {},
   "outputs": [
    {
     "data": {
      "text/html": [
       "<div>\n",
       "<style scoped>\n",
       "    .dataframe tbody tr th:only-of-type {\n",
       "        vertical-align: middle;\n",
       "    }\n",
       "\n",
       "    .dataframe tbody tr th {\n",
       "        vertical-align: top;\n",
       "    }\n",
       "\n",
       "    .dataframe thead th {\n",
       "        text-align: right;\n",
       "    }\n",
       "</style>\n",
       "<table border=\"1\" class=\"dataframe\">\n",
       "  <thead>\n",
       "    <tr style=\"text-align: right;\">\n",
       "      <th></th>\n",
       "      <th>age</th>\n",
       "      <th>workclass</th>\n",
       "      <th>fnlwgt</th>\n",
       "      <th>education</th>\n",
       "      <th>education-num</th>\n",
       "      <th>marital-status</th>\n",
       "      <th>occupation</th>\n",
       "      <th>relationship</th>\n",
       "      <th>race</th>\n",
       "      <th>sex</th>\n",
       "      <th>capital-gain</th>\n",
       "      <th>capital-loss</th>\n",
       "      <th>hours-per-week</th>\n",
       "      <th>native-country</th>\n",
       "      <th>income</th>\n",
       "    </tr>\n",
       "  </thead>\n",
       "  <tbody>\n",
       "    <tr>\n",
       "      <th>0</th>\n",
       "      <td>39</td>\n",
       "      <td>State-gov</td>\n",
       "      <td>77516</td>\n",
       "      <td>Bachelors</td>\n",
       "      <td>13</td>\n",
       "      <td>Never-married</td>\n",
       "      <td>Adm-clerical</td>\n",
       "      <td>Not-in-family</td>\n",
       "      <td>White</td>\n",
       "      <td>Male</td>\n",
       "      <td>2174</td>\n",
       "      <td>0</td>\n",
       "      <td>40</td>\n",
       "      <td>United-States</td>\n",
       "      <td>&lt;=50K</td>\n",
       "    </tr>\n",
       "    <tr>\n",
       "      <th>1</th>\n",
       "      <td>50</td>\n",
       "      <td>Self-emp-not-inc</td>\n",
       "      <td>83311</td>\n",
       "      <td>Bachelors</td>\n",
       "      <td>13</td>\n",
       "      <td>Married-civ-spouse</td>\n",
       "      <td>Exec-managerial</td>\n",
       "      <td>Husband</td>\n",
       "      <td>White</td>\n",
       "      <td>Male</td>\n",
       "      <td>0</td>\n",
       "      <td>0</td>\n",
       "      <td>13</td>\n",
       "      <td>United-States</td>\n",
       "      <td>&lt;=50K</td>\n",
       "    </tr>\n",
       "    <tr>\n",
       "      <th>2</th>\n",
       "      <td>38</td>\n",
       "      <td>Private</td>\n",
       "      <td>215646</td>\n",
       "      <td>HS-grad</td>\n",
       "      <td>9</td>\n",
       "      <td>Divorced</td>\n",
       "      <td>Handlers-cleaners</td>\n",
       "      <td>Not-in-family</td>\n",
       "      <td>White</td>\n",
       "      <td>Male</td>\n",
       "      <td>0</td>\n",
       "      <td>0</td>\n",
       "      <td>40</td>\n",
       "      <td>United-States</td>\n",
       "      <td>&lt;=50K</td>\n",
       "    </tr>\n",
       "    <tr>\n",
       "      <th>3</th>\n",
       "      <td>53</td>\n",
       "      <td>Private</td>\n",
       "      <td>234721</td>\n",
       "      <td>11th</td>\n",
       "      <td>7</td>\n",
       "      <td>Married-civ-spouse</td>\n",
       "      <td>Handlers-cleaners</td>\n",
       "      <td>Husband</td>\n",
       "      <td>Black</td>\n",
       "      <td>Male</td>\n",
       "      <td>0</td>\n",
       "      <td>0</td>\n",
       "      <td>40</td>\n",
       "      <td>United-States</td>\n",
       "      <td>&lt;=50K</td>\n",
       "    </tr>\n",
       "    <tr>\n",
       "      <th>4</th>\n",
       "      <td>28</td>\n",
       "      <td>Private</td>\n",
       "      <td>338409</td>\n",
       "      <td>Bachelors</td>\n",
       "      <td>13</td>\n",
       "      <td>Married-civ-spouse</td>\n",
       "      <td>Prof-specialty</td>\n",
       "      <td>Wife</td>\n",
       "      <td>Black</td>\n",
       "      <td>Female</td>\n",
       "      <td>0</td>\n",
       "      <td>0</td>\n",
       "      <td>40</td>\n",
       "      <td>Cuba</td>\n",
       "      <td>&lt;=50K</td>\n",
       "    </tr>\n",
       "  </tbody>\n",
       "</table>\n",
       "</div>"
      ],
      "text/plain": [
       "   age          workclass   fnlwgt   education   education-num  \\\n",
       "0   39          State-gov    77516   Bachelors              13   \n",
       "1   50   Self-emp-not-inc    83311   Bachelors              13   \n",
       "2   38            Private   215646     HS-grad               9   \n",
       "3   53            Private   234721        11th               7   \n",
       "4   28            Private   338409   Bachelors              13   \n",
       "\n",
       "        marital-status          occupation    relationship    race      sex  \\\n",
       "0        Never-married        Adm-clerical   Not-in-family   White     Male   \n",
       "1   Married-civ-spouse     Exec-managerial         Husband   White     Male   \n",
       "2             Divorced   Handlers-cleaners   Not-in-family   White     Male   \n",
       "3   Married-civ-spouse   Handlers-cleaners         Husband   Black     Male   \n",
       "4   Married-civ-spouse      Prof-specialty            Wife   Black   Female   \n",
       "\n",
       "    capital-gain   capital-loss   hours-per-week  native-country  income  \n",
       "0           2174              0               40   United-States   <=50K  \n",
       "1              0              0               13   United-States   <=50K  \n",
       "2              0              0               40   United-States   <=50K  \n",
       "3              0              0               40   United-States   <=50K  \n",
       "4              0              0               40            Cuba   <=50K  "
      ]
     },
     "execution_count": 334,
     "metadata": {},
     "output_type": "execute_result"
    }
   ],
   "source": [
    "# acquire dataset\n",
    "data = pd.read_csv(\"./income_evaluation.csv\")\n",
    "data.head()"
   ]
  },
  {
   "cell_type": "code",
   "execution_count": 335,
   "id": "b9c75260",
   "metadata": {},
   "outputs": [
    {
     "name": "stdout",
     "output_type": "stream",
     "text": [
      "<class 'pandas.core.frame.DataFrame'>\n",
      "RangeIndex: 32561 entries, 0 to 32560\n",
      "Data columns (total 15 columns):\n",
      " #   Column           Non-Null Count  Dtype \n",
      "---  ------           --------------  ----- \n",
      " 0   age              32561 non-null  int64 \n",
      " 1    workclass       32561 non-null  object\n",
      " 2    fnlwgt          32561 non-null  int64 \n",
      " 3    education       32561 non-null  object\n",
      " 4    education-num   32561 non-null  int64 \n",
      " 5    marital-status  32561 non-null  object\n",
      " 6    occupation      32561 non-null  object\n",
      " 7    relationship    32561 non-null  object\n",
      " 8    race            32561 non-null  object\n",
      " 9    sex             32561 non-null  object\n",
      " 10   capital-gain    32561 non-null  int64 \n",
      " 11   capital-loss    32561 non-null  int64 \n",
      " 12   hours-per-week  32561 non-null  int64 \n",
      " 13   native-country  32561 non-null  object\n",
      " 14   income          32561 non-null  object\n",
      "dtypes: int64(6), object(9)\n",
      "memory usage: 3.7+ MB\n"
     ]
    }
   ],
   "source": [
    "# check for column types and # non-nulls\n",
    "data.info()"
   ]
  },
  {
   "cell_type": "code",
   "execution_count": 336,
   "id": "d15d6483",
   "metadata": {},
   "outputs": [
    {
     "name": "stdout",
     "output_type": "stream",
     "text": [
      "unique values for age are: [39 50 38 53 28 37 49 52 31 42 30 23 32 40 34 25 43 54 35 59 56 19 20 45\n",
      " 22 48 21 24 57 44 41 29 18 47 46 36 79 27 67 33 76 17 55 61 70 64 71 68\n",
      " 66 51 58 26 60 90 75 65 77 62 63 80 72 74 69 73 81 78 88 82 83 84 85 86\n",
      " 87]\n",
      "unique values for  workclass are: [' State-gov' ' Self-emp-not-inc' ' Private' ' Federal-gov' ' Local-gov'\n",
      " ' ?' ' Self-emp-inc' ' Without-pay' ' Never-worked']\n",
      "unique values for  fnlwgt are: [ 77516  83311 215646 ...  34066  84661 257302]\n",
      "unique values for  education are: [' Bachelors' ' HS-grad' ' 11th' ' Masters' ' 9th' ' Some-college'\n",
      " ' Assoc-acdm' ' Assoc-voc' ' 7th-8th' ' Doctorate' ' Prof-school'\n",
      " ' 5th-6th' ' 10th' ' 1st-4th' ' Preschool' ' 12th']\n",
      "unique values for  education-num are: [13  9  7 14  5 10 12 11  4 16 15  3  6  2  1  8]\n",
      "unique values for  marital-status are: [' Never-married' ' Married-civ-spouse' ' Divorced'\n",
      " ' Married-spouse-absent' ' Separated' ' Married-AF-spouse' ' Widowed']\n",
      "unique values for  occupation are: [' Adm-clerical' ' Exec-managerial' ' Handlers-cleaners' ' Prof-specialty'\n",
      " ' Other-service' ' Sales' ' Craft-repair' ' Transport-moving'\n",
      " ' Farming-fishing' ' Machine-op-inspct' ' Tech-support' ' ?'\n",
      " ' Protective-serv' ' Armed-Forces' ' Priv-house-serv']\n",
      "unique values for  relationship are: [' Not-in-family' ' Husband' ' Wife' ' Own-child' ' Unmarried'\n",
      " ' Other-relative']\n",
      "unique values for  race are: [' White' ' Black' ' Asian-Pac-Islander' ' Amer-Indian-Eskimo' ' Other']\n",
      "unique values for  sex are: [' Male' ' Female']\n",
      "unique values for  capital-gain are: [ 2174     0 14084  5178  5013  2407 14344 15024  7688 34095  4064  4386\n",
      "  7298  1409  3674  1055  3464  2050  2176   594 20051  6849  4101  1111\n",
      "  8614  3411  2597 25236  4650  9386  2463  3103 10605  2964  3325  2580\n",
      "  3471  4865 99999  6514  1471  2329  2105  2885 25124 10520  2202  2961\n",
      " 27828  6767  2228  1506 13550  2635  5556  4787  3781  3137  3818  3942\n",
      "   914   401  2829  2977  4934  2062  2354  5455 15020  1424  3273 22040\n",
      "  4416  3908 10566   991  4931  1086  7430  6497   114  7896  2346  3418\n",
      "  3432  2907  1151  2414  2290 15831 41310  4508  2538  3456  6418  1848\n",
      "  3887  5721  9562  1455  2036  1831 11678  2936  2993  7443  6360  1797\n",
      "  1173  4687  6723  2009  6097  2653  1639 18481  7978  2387  5060]\n",
      "unique values for  capital-loss are: [   0 2042 1408 1902 1573 1887 1719 1762 1564 2179 1816 1980 1977 1876\n",
      " 1340 2206 1741 1485 2339 2415 1380 1721 2051 2377 1669 2352 1672  653\n",
      " 2392 1504 2001 1590 1651 1628 1848 1740 2002 1579 2258 1602  419 2547\n",
      " 2174 2205 1726 2444 1138 2238  625  213 1539  880 1668 1092 1594 3004\n",
      " 2231 1844  810 2824 2559 2057 1974  974 2149 1825 1735 1258 2129 2603\n",
      " 2282  323 4356 2246 1617 1648 2489 3770 1755 3683 2267 2080 2457  155\n",
      " 3900 2201 1944 2467 2163 2754 2472 1411]\n",
      "unique values for  hours-per-week are: [40 13 16 45 50 80 30 35 60 20 52 44 15 25 38 43 55 48 58 32 70  2 22 56\n",
      " 41 28 36 24 46 42 12 65  1 10 34 75 98 33 54  8  6 64 19 18 72  5  9 47\n",
      " 37 21 26 14  4 59  7 99 53 39 62 57 78 90 66 11 49 84  3 17 68 27 85 31\n",
      " 51 77 63 23 87 88 73 89 97 94 29 96 67 82 86 91 81 76 92 61 74 95]\n",
      "unique values for  native-country are: [' United-States' ' Cuba' ' Jamaica' ' India' ' ?' ' Mexico' ' South'\n",
      " ' Puerto-Rico' ' Honduras' ' England' ' Canada' ' Germany' ' Iran'\n",
      " ' Philippines' ' Italy' ' Poland' ' Columbia' ' Cambodia' ' Thailand'\n",
      " ' Ecuador' ' Laos' ' Taiwan' ' Haiti' ' Portugal' ' Dominican-Republic'\n",
      " ' El-Salvador' ' France' ' Guatemala' ' China' ' Japan' ' Yugoslavia'\n",
      " ' Peru' ' Outlying-US(Guam-USVI-etc)' ' Scotland' ' Trinadad&Tobago'\n",
      " ' Greece' ' Nicaragua' ' Vietnam' ' Hong' ' Ireland' ' Hungary'\n",
      " ' Holand-Netherlands']\n",
      "unique values for  income are: [' <=50K' ' >50K']\n"
     ]
    }
   ],
   "source": [
    "# get all unique values\n",
    "for col in data.columns:\n",
    "    unique = data[col].unique()\n",
    "    print(\"unique values for\", col, \"are:\", unique)"
   ]
  },
  {
   "cell_type": "code",
   "execution_count": 337,
   "id": "029908ba",
   "metadata": {},
   "outputs": [
    {
     "name": "stdout",
     "output_type": "stream",
     "text": [
      "unique values for  workclass are: [' State-gov' ' Self-emp-not-inc' ' Private' ' Federal-gov' ' Local-gov'\n",
      " ' Self-emp-inc' ' Without-pay' ' Never-worked']\n",
      "unique values for  education are: [' Bachelors' ' HS-grad' ' 11th' ' Masters' ' 9th' ' Some-college'\n",
      " ' Assoc-acdm' ' Assoc-voc' ' 7th-8th' ' Doctorate' ' Prof-school'\n",
      " ' 5th-6th' ' 10th' ' 1st-4th' ' Preschool' ' 12th']\n",
      "unique values for  marital-status are: [' Never-married' ' Married-civ-spouse' ' Divorced'\n",
      " ' Married-spouse-absent' ' Separated' ' Married-AF-spouse' ' Widowed']\n",
      "unique values for  occupation are: [' Adm-clerical' ' Exec-managerial' ' Handlers-cleaners' ' Prof-specialty'\n",
      " ' Other-service' ' Sales' ' Craft-repair' ' Transport-moving'\n",
      " ' Farming-fishing' ' Machine-op-inspct' ' Tech-support'\n",
      " ' Protective-serv' ' Armed-Forces' ' Priv-house-serv']\n",
      "unique values for  relationship are: [' Not-in-family' ' Husband' ' Wife' ' Own-child' ' Unmarried'\n",
      " ' Other-relative']\n",
      "unique values for  race are: [' White' ' Black' ' Asian-Pac-Islander' ' Amer-Indian-Eskimo' ' Other']\n",
      "unique values for  sex are: [' Male' ' Female']\n",
      "unique values for  native-country are: [' United-States' ' Cuba' ' Jamaica' ' India' ' Mexico' ' South'\n",
      " ' Puerto-Rico' ' Honduras' ' England' ' Canada' ' Germany' ' Iran'\n",
      " ' Philippines' ' Italy' ' Poland' ' Columbia' ' Cambodia' ' Thailand'\n",
      " ' Ecuador' ' Laos' ' Taiwan' ' Haiti' ' Portugal' ' Dominican-Republic'\n",
      " ' El-Salvador' ' France' ' Guatemala' ' China' ' Japan' ' Yugoslavia'\n",
      " ' Peru' ' Outlying-US(Guam-USVI-etc)' ' Scotland' ' Trinadad&Tobago'\n",
      " ' Greece' ' Nicaragua' ' Vietnam' ' Hong' ' Ireland' ' Hungary'\n",
      " ' Holand-Netherlands']\n",
      "unique values for  income are: [' <=50K' ' >50K']\n"
     ]
    }
   ],
   "source": [
    "# replace \"?\" unique value in non-numerics with that column's most common value\n",
    "for col in data.columns:\n",
    "    if pd.api.types.is_numeric_dtype(data[col]) == False:\n",
    "        new = data[col].mode()[0] # needs to return a single value, not Series\n",
    "        data[col] = data[col].replace('?', new)\n",
    "        data[col] = data[col].replace(' ?', new)\n",
    "\n",
    "# check uniques of non-numerics\n",
    "for col in data.columns:\n",
    "    if pd.api.types.is_numeric_dtype(data[col]) == False:\n",
    "        unique = data[col].unique()\n",
    "        print(\"unique values for\", col, \"are:\", unique)"
   ]
  },
  {
   "cell_type": "code",
   "execution_count": 338,
   "id": "6677b4d9",
   "metadata": {},
   "outputs": [
    {
     "name": "stdout",
     "output_type": "stream",
     "text": [
      "<class 'pandas.core.frame.DataFrame'>\n",
      "Index: 19004 entries, 2 to 32558\n",
      "Data columns (total 15 columns):\n",
      " #   Column           Non-Null Count  Dtype \n",
      "---  ------           --------------  ----- \n",
      " 0   age              19004 non-null  int64 \n",
      " 1    workclass       19004 non-null  object\n",
      " 2    fnlwgt          19004 non-null  int64 \n",
      " 3    education       19004 non-null  object\n",
      " 4    education-num   19004 non-null  int64 \n",
      " 5    marital-status  19004 non-null  object\n",
      " 6    occupation      19004 non-null  object\n",
      " 7    relationship    19004 non-null  object\n",
      " 8    race            19004 non-null  object\n",
      " 9    sex             19004 non-null  object\n",
      " 10   capital-gain    19004 non-null  int64 \n",
      " 11   capital-loss    19004 non-null  int64 \n",
      " 12   hours-per-week  19004 non-null  int64 \n",
      " 13   native-country  19004 non-null  object\n",
      " 14   income          19004 non-null  object\n",
      "dtypes: int64(6), object(9)\n",
      "memory usage: 2.3+ MB\n"
     ]
    }
   ],
   "source": [
    "# remove numeric outliers\n",
    "for col in data.columns:\n",
    "    if pd.api.types.is_numeric_dtype(data[col]) == True:\n",
    "        q1 = data[col].quantile(0.25)\n",
    "        q3 = data[col].quantile(0.75)\n",
    "        iqr = q3 - q1\n",
    "        lowerb = q1 - 1.5*iqr\n",
    "        upperb = q3 + 1.5*iqr\n",
    "        data = data.drop(data[(data[col] < lowerb) | (data[col] > upperb)].index)\n",
    "    \n",
    "# check non-null and indexes\n",
    "data.info()"
   ]
  },
  {
   "cell_type": "code",
   "execution_count": 339,
   "id": "b559d668",
   "metadata": {},
   "outputs": [
    {
     "name": "stdout",
     "output_type": "stream",
     "text": [
      "unique values for age are: [38 53 28 37 52 30 32 40 25 43 35 59 56 19 49 23 20 48 21 31 24 57 44 41\n",
      " 29 42 36 27 46 33 34 76 47 22 39 61 70 45 51 18 60 50 65 58 26 64 77 63\n",
      " 55 62 54 17 72 69 73 67 66 75 68 74 71 78]\n",
      "unique values for  workclass are: [' Private' ' Self-emp-not-inc' ' State-gov' ' Federal-gov' ' Local-gov'\n",
      " ' Self-emp-inc' ' Never-worked' ' Without-pay']\n",
      "unique values for  fnlwgt are: [215646 234721 338409 ... 321865 257302 151910]\n",
      "unique values for  education are: [' HS-grad' ' 11th' ' Bachelors' ' Masters' ' Assoc-acdm' ' Assoc-voc'\n",
      " ' 9th' ' Some-college' ' Doctorate' ' Prof-school' ' 10th' ' 12th']\n",
      "unique values for  education-num are: [ 9  7 13 14 12 11  5 10 16 15  6  8]\n",
      "unique values for  marital-status are: [' Divorced' ' Married-civ-spouse' ' Never-married' ' Separated'\n",
      " ' Widowed' ' Married-spouse-absent' ' Married-AF-spouse']\n",
      "unique values for  occupation are: [' Handlers-cleaners' ' Prof-specialty' ' Exec-managerial' ' Sales'\n",
      " ' Craft-repair' ' Farming-fishing' ' Machine-op-inspct' ' Tech-support'\n",
      " ' Protective-serv' ' Adm-clerical' ' Other-service' ' Transport-moving'\n",
      " ' Armed-Forces' ' Priv-house-serv']\n",
      "unique values for  relationship are: [' Not-in-family' ' Husband' ' Wife' ' Own-child' ' Unmarried'\n",
      " ' Other-relative']\n",
      "unique values for  race are: [' White' ' Black' ' Asian-Pac-Islander' ' Other' ' Amer-Indian-Eskimo']\n",
      "unique values for  sex are: [' Male' ' Female']\n",
      "unique values for  capital-gain are: [0]\n",
      "unique values for  capital-loss are: [0]\n",
      "unique values for  hours-per-week are: [40 45 50 35 52 44 38 43 48 41 36 46 42 34 33 37 47 39 49 51]\n",
      "unique values for  native-country are: [' United-States' ' Cuba' ' India' ' Puerto-Rico' ' Mexico' ' England'\n",
      " ' Germany' ' Iran' ' Philippines' ' Italy' ' Poland' ' Cambodia' ' Laos'\n",
      " ' Portugal' ' France' ' El-Salvador' ' Taiwan' ' Dominican-Republic'\n",
      " ' Jamaica' ' Honduras' ' Haiti' ' South' ' Japan' ' Yugoslavia' ' Canada'\n",
      " ' China' ' Peru' ' Outlying-US(Guam-USVI-etc)' ' Scotland'\n",
      " ' Trinadad&Tobago' ' Greece' ' Nicaragua' ' Guatemala' ' Vietnam' ' Hong'\n",
      " ' Ireland' ' Columbia' ' Ecuador' ' Thailand' ' Hungary']\n",
      "unique values for  income are: [' <=50K' ' >50K']\n"
     ]
    }
   ],
   "source": [
    "# get all unique values, again, to ensure things are running fine\n",
    "for col in data.columns:\n",
    "    unique = data[col].unique()\n",
    "    print(\"unique values for\", col, \"are:\", unique)"
   ]
  },
  {
   "cell_type": "code",
   "execution_count": 340,
   "id": "574374da",
   "metadata": {},
   "outputs": [
    {
     "name": "stdout",
     "output_type": "stream",
     "text": [
      "<class 'pandas.core.frame.DataFrame'>\n",
      "Index: 19004 entries, 2 to 32558\n",
      "Data columns (total 13 columns):\n",
      " #   Column           Non-Null Count  Dtype \n",
      "---  ------           --------------  ----- \n",
      " 0   age              19004 non-null  int64 \n",
      " 1    workclass       19004 non-null  object\n",
      " 2    fnlwgt          19004 non-null  int64 \n",
      " 3    education       19004 non-null  object\n",
      " 4    education-num   19004 non-null  int64 \n",
      " 5    marital-status  19004 non-null  object\n",
      " 6    occupation      19004 non-null  object\n",
      " 7    relationship    19004 non-null  object\n",
      " 8    race            19004 non-null  object\n",
      " 9    sex             19004 non-null  object\n",
      " 10   hours-per-week  19004 non-null  int64 \n",
      " 11   native-country  19004 non-null  object\n",
      " 12   income          19004 non-null  object\n",
      "dtypes: int64(4), object(9)\n",
      "memory usage: 2.0+ MB\n"
     ]
    }
   ],
   "source": [
    "# since outlier removal made these always 0, we're dropping them\n",
    "data = data.drop(' capital-gain', axis=1)\n",
    "data = data.drop(' capital-loss', axis=1)\n",
    "# check again\n",
    "data.info()"
   ]
  },
  {
   "cell_type": "code",
   "execution_count": 341,
   "id": "d969b24a",
   "metadata": {},
   "outputs": [],
   "source": [
    "# one-hot encode automatically the object columns which don't need specific encodings\n",
    "data = pd.get_dummies(data, columns=[' workclass', ' marital-status', ' relationship', ' race', ' sex'], drop_first = True)\n"
   ]
  },
  {
   "cell_type": "code",
   "execution_count": 342,
   "id": "d05b30b7",
   "metadata": {},
   "outputs": [
    {
     "name": "stdout",
     "output_type": "stream",
     "text": [
      "<class 'pandas.core.frame.DataFrame'>\n",
      "Index: 19004 entries, 2 to 32558\n",
      "Data columns (total 31 columns):\n",
      " #   Column                                  Non-Null Count  Dtype \n",
      "---  ------                                  --------------  ----- \n",
      " 0   age                                     19004 non-null  int64 \n",
      " 1    fnlwgt                                 19004 non-null  int64 \n",
      " 2    education                              19004 non-null  object\n",
      " 3    education-num                          19004 non-null  int64 \n",
      " 4    occupation                             19004 non-null  object\n",
      " 5    hours-per-week                         19004 non-null  int64 \n",
      " 6    native-country                         19004 non-null  object\n",
      " 7    income                                 19004 non-null  object\n",
      " 8    workclass_ Local-gov                   19004 non-null  bool  \n",
      " 9    workclass_ Never-worked                19004 non-null  bool  \n",
      " 10   workclass_ Private                     19004 non-null  bool  \n",
      " 11   workclass_ Self-emp-inc                19004 non-null  bool  \n",
      " 12   workclass_ Self-emp-not-inc            19004 non-null  bool  \n",
      " 13   workclass_ State-gov                   19004 non-null  bool  \n",
      " 14   workclass_ Without-pay                 19004 non-null  bool  \n",
      " 15   marital-status_ Married-AF-spouse      19004 non-null  bool  \n",
      " 16   marital-status_ Married-civ-spouse     19004 non-null  bool  \n",
      " 17   marital-status_ Married-spouse-absent  19004 non-null  bool  \n",
      " 18   marital-status_ Never-married          19004 non-null  bool  \n",
      " 19   marital-status_ Separated              19004 non-null  bool  \n",
      " 20   marital-status_ Widowed                19004 non-null  bool  \n",
      " 21   relationship_ Not-in-family            19004 non-null  bool  \n",
      " 22   relationship_ Other-relative           19004 non-null  bool  \n",
      " 23   relationship_ Own-child                19004 non-null  bool  \n",
      " 24   relationship_ Unmarried                19004 non-null  bool  \n",
      " 25   relationship_ Wife                     19004 non-null  bool  \n",
      " 26   race_ Asian-Pac-Islander               19004 non-null  bool  \n",
      " 27   race_ Black                            19004 non-null  bool  \n",
      " 28   race_ Other                            19004 non-null  bool  \n",
      " 29   race_ White                            19004 non-null  bool  \n",
      " 30   sex_ Male                              19004 non-null  bool  \n",
      "dtypes: bool(23), int64(4), object(4)\n",
      "memory usage: 1.7+ MB\n"
     ]
    }
   ],
   "source": [
    "# check that this was done correctly\n",
    "data.info()"
   ]
  },
  {
   "cell_type": "code",
   "execution_count": 343,
   "id": "35781b3f",
   "metadata": {},
   "outputs": [
    {
     "name": "stdout",
     "output_type": "stream",
     "text": [
      "<class 'pandas.core.frame.DataFrame'>\n",
      "Index: 19004 entries, 2 to 32558\n",
      "Data columns (total 31 columns):\n",
      " #   Column                                  Non-Null Count  Dtype\n",
      "---  ------                                  --------------  -----\n",
      " 0   age                                     19004 non-null  int64\n",
      " 1    fnlwgt                                 19004 non-null  int64\n",
      " 2    education-num                          19004 non-null  int64\n",
      " 3    occupation                             19004 non-null  int64\n",
      " 4    hours-per-week                         19004 non-null  int64\n",
      " 5    native-country                         19004 non-null  int64\n",
      " 6    workclass_ Local-gov                   19004 non-null  bool \n",
      " 7    workclass_ Never-worked                19004 non-null  bool \n",
      " 8    workclass_ Private                     19004 non-null  bool \n",
      " 9    workclass_ Self-emp-inc                19004 non-null  bool \n",
      " 10   workclass_ Self-emp-not-inc            19004 non-null  bool \n",
      " 11   workclass_ State-gov                   19004 non-null  bool \n",
      " 12   workclass_ Without-pay                 19004 non-null  bool \n",
      " 13   marital-status_ Married-AF-spouse      19004 non-null  bool \n",
      " 14   marital-status_ Married-civ-spouse     19004 non-null  bool \n",
      " 15   marital-status_ Married-spouse-absent  19004 non-null  bool \n",
      " 16   marital-status_ Never-married          19004 non-null  bool \n",
      " 17   marital-status_ Separated              19004 non-null  bool \n",
      " 18   marital-status_ Widowed                19004 non-null  bool \n",
      " 19   relationship_ Not-in-family            19004 non-null  bool \n",
      " 20   relationship_ Other-relative           19004 non-null  bool \n",
      " 21   relationship_ Own-child                19004 non-null  bool \n",
      " 22   relationship_ Unmarried                19004 non-null  bool \n",
      " 23   relationship_ Wife                     19004 non-null  bool \n",
      " 24   race_ Asian-Pac-Islander               19004 non-null  bool \n",
      " 25   race_ Black                            19004 non-null  bool \n",
      " 26   race_ Other                            19004 non-null  bool \n",
      " 27   race_ White                            19004 non-null  bool \n",
      " 28   sex_ Male                              19004 non-null  bool \n",
      " 29  education                               19004 non-null  int64\n",
      " 30  income                                  19004 non-null  int64\n",
      "dtypes: bool(23), int64(8)\n",
      "memory usage: 1.7 MB\n"
     ]
    }
   ],
   "source": [
    "# now for label encoding the ones with nominal order\n",
    "from sklearn.preprocessing import LabelEncoder\n",
    "\n",
    "# education & income are only ones that needs specific mapping rather than a generic label encoding\n",
    "education_map = {' 9th': 1, ' 10th': 2, ' 11th': 3, ' 12th': 4, ' HS-grad': 5, ' Prof-school': 6, ' Some-college': 7, \n",
    "                 ' Assoc-acdm': 8, ' Assoc-voc': 9, ' Bachelors': 10, ' Masters': 11, ' Doctorate': 12}\n",
    "data['education'] = data[' education'].map(education_map)\n",
    "data = data.drop([' education'], axis=1)\n",
    "# in binary classifying fashion, then drop the poorly-formatted one that isn't binary \n",
    "income_map = {' <=50K': 0, ' >50K': 1}\n",
    "data['income'] = data[' income'].map(income_map)\n",
    "data = data.drop([' income'], axis=1)\n",
    "\n",
    "# these just get generic label encodings since the order is largely arbitrary in these (for native-country, too many options for 1hot)\n",
    "le = LabelEncoder()\n",
    "data[' occupation'] = le.fit_transform(data[' occupation'])\n",
    "data[' native-country'] = le.fit_transform(data[' native-country'])\n",
    "\n",
    "data.info()"
   ]
  },
  {
   "cell_type": "code",
   "execution_count": 344,
   "id": "ccf15968",
   "metadata": {},
   "outputs": [
    {
     "name": "stdout",
     "output_type": "stream",
     "text": [
      "<class 'pandas.core.frame.DataFrame'>\n",
      "Index: 19004 entries, 2 to 32558\n",
      "Data columns (total 31 columns):\n",
      " #   Column                                  Non-Null Count  Dtype\n",
      "---  ------                                  --------------  -----\n",
      " 0   age                                     19004 non-null  int64\n",
      " 1    fnlwgt                                 19004 non-null  int64\n",
      " 2    education-num                          19004 non-null  int64\n",
      " 3    occupation                             19004 non-null  int64\n",
      " 4    hours-per-week                         19004 non-null  int64\n",
      " 5    native-country                         19004 non-null  int64\n",
      " 6    workclass_ Local-gov                   19004 non-null  int64\n",
      " 7    workclass_ Never-worked                19004 non-null  int64\n",
      " 8    workclass_ Private                     19004 non-null  int64\n",
      " 9    workclass_ Self-emp-inc                19004 non-null  int64\n",
      " 10   workclass_ Self-emp-not-inc            19004 non-null  int64\n",
      " 11   workclass_ State-gov                   19004 non-null  int64\n",
      " 12   workclass_ Without-pay                 19004 non-null  int64\n",
      " 13   marital-status_ Married-AF-spouse      19004 non-null  int64\n",
      " 14   marital-status_ Married-civ-spouse     19004 non-null  int64\n",
      " 15   marital-status_ Married-spouse-absent  19004 non-null  int64\n",
      " 16   marital-status_ Never-married          19004 non-null  int64\n",
      " 17   marital-status_ Separated              19004 non-null  int64\n",
      " 18   marital-status_ Widowed                19004 non-null  int64\n",
      " 19   relationship_ Not-in-family            19004 non-null  int64\n",
      " 20   relationship_ Other-relative           19004 non-null  int64\n",
      " 21   relationship_ Own-child                19004 non-null  int64\n",
      " 22   relationship_ Unmarried                19004 non-null  int64\n",
      " 23   relationship_ Wife                     19004 non-null  int64\n",
      " 24   race_ Asian-Pac-Islander               19004 non-null  int64\n",
      " 25   race_ Black                            19004 non-null  int64\n",
      " 26   race_ Other                            19004 non-null  int64\n",
      " 27   race_ White                            19004 non-null  int64\n",
      " 28   sex_ Male                              19004 non-null  int64\n",
      " 29  education                               19004 non-null  int64\n",
      " 30  income                                  19004 non-null  int64\n",
      "dtypes: int64(31)\n",
      "memory usage: 4.6 MB\n"
     ]
    }
   ],
   "source": [
    "# change type of all bools to int64 with 0 or 1 as values, for computer legibility\n",
    "for col in data.columns:\n",
    "    if data[col].dtype == bool:\n",
    "        data[col] = data[col].astype(int)\n",
    "data.info()"
   ]
  },
  {
   "cell_type": "code",
   "execution_count": 345,
   "id": "c9f6fd57",
   "metadata": {},
   "outputs": [
    {
     "data": {
      "text/html": [
       "<div>\n",
       "<style scoped>\n",
       "    .dataframe tbody tr th:only-of-type {\n",
       "        vertical-align: middle;\n",
       "    }\n",
       "\n",
       "    .dataframe tbody tr th {\n",
       "        vertical-align: top;\n",
       "    }\n",
       "\n",
       "    .dataframe thead th {\n",
       "        text-align: right;\n",
       "    }\n",
       "</style>\n",
       "<table border=\"1\" class=\"dataframe\">\n",
       "  <thead>\n",
       "    <tr style=\"text-align: right;\">\n",
       "      <th></th>\n",
       "      <th>age</th>\n",
       "      <th>fnlwgt</th>\n",
       "      <th>education-num</th>\n",
       "      <th>occupation</th>\n",
       "      <th>hours-per-week</th>\n",
       "      <th>native-country</th>\n",
       "      <th>workclass_ Local-gov</th>\n",
       "      <th>workclass_ Never-worked</th>\n",
       "      <th>workclass_ Private</th>\n",
       "      <th>workclass_ Self-emp-inc</th>\n",
       "      <th>...</th>\n",
       "      <th>relationship_ Own-child</th>\n",
       "      <th>relationship_ Unmarried</th>\n",
       "      <th>relationship_ Wife</th>\n",
       "      <th>race_ Asian-Pac-Islander</th>\n",
       "      <th>race_ Black</th>\n",
       "      <th>race_ Other</th>\n",
       "      <th>race_ White</th>\n",
       "      <th>sex_ Male</th>\n",
       "      <th>education</th>\n",
       "      <th>income</th>\n",
       "    </tr>\n",
       "  </thead>\n",
       "  <tbody>\n",
       "    <tr>\n",
       "      <th>2</th>\n",
       "      <td>0.487179</td>\n",
       "      <td>0.517863</td>\n",
       "      <td>0.5625</td>\n",
       "      <td>0.384615</td>\n",
       "      <td>0.769231</td>\n",
       "      <td>0.948718</td>\n",
       "      <td>0.0</td>\n",
       "      <td>0.0</td>\n",
       "      <td>1.0</td>\n",
       "      <td>0.0</td>\n",
       "      <td>...</td>\n",
       "      <td>0.0</td>\n",
       "      <td>0.0</td>\n",
       "      <td>0.0</td>\n",
       "      <td>0.0</td>\n",
       "      <td>0.0</td>\n",
       "      <td>0.0</td>\n",
       "      <td>1.0</td>\n",
       "      <td>1.0</td>\n",
       "      <td>0.416667</td>\n",
       "      <td>0.0</td>\n",
       "    </tr>\n",
       "    <tr>\n",
       "      <th>3</th>\n",
       "      <td>0.679487</td>\n",
       "      <td>0.563671</td>\n",
       "      <td>0.4375</td>\n",
       "      <td>0.384615</td>\n",
       "      <td>0.769231</td>\n",
       "      <td>0.948718</td>\n",
       "      <td>0.0</td>\n",
       "      <td>0.0</td>\n",
       "      <td>1.0</td>\n",
       "      <td>0.0</td>\n",
       "      <td>...</td>\n",
       "      <td>0.0</td>\n",
       "      <td>0.0</td>\n",
       "      <td>0.0</td>\n",
       "      <td>0.0</td>\n",
       "      <td>1.0</td>\n",
       "      <td>0.0</td>\n",
       "      <td>0.0</td>\n",
       "      <td>1.0</td>\n",
       "      <td>0.250000</td>\n",
       "      <td>0.0</td>\n",
       "    </tr>\n",
       "    <tr>\n",
       "      <th>4</th>\n",
       "      <td>0.358974</td>\n",
       "      <td>0.812672</td>\n",
       "      <td>0.8125</td>\n",
       "      <td>0.692308</td>\n",
       "      <td>0.769231</td>\n",
       "      <td>0.102564</td>\n",
       "      <td>0.0</td>\n",
       "      <td>0.0</td>\n",
       "      <td>1.0</td>\n",
       "      <td>0.0</td>\n",
       "      <td>...</td>\n",
       "      <td>0.0</td>\n",
       "      <td>0.0</td>\n",
       "      <td>1.0</td>\n",
       "      <td>0.0</td>\n",
       "      <td>1.0</td>\n",
       "      <td>0.0</td>\n",
       "      <td>0.0</td>\n",
       "      <td>0.0</td>\n",
       "      <td>0.833333</td>\n",
       "      <td>0.0</td>\n",
       "    </tr>\n",
       "    <tr>\n",
       "      <th>5</th>\n",
       "      <td>0.474359</td>\n",
       "      <td>0.683410</td>\n",
       "      <td>0.8750</td>\n",
       "      <td>0.230769</td>\n",
       "      <td>0.769231</td>\n",
       "      <td>0.948718</td>\n",
       "      <td>0.0</td>\n",
       "      <td>0.0</td>\n",
       "      <td>1.0</td>\n",
       "      <td>0.0</td>\n",
       "      <td>...</td>\n",
       "      <td>0.0</td>\n",
       "      <td>0.0</td>\n",
       "      <td>1.0</td>\n",
       "      <td>0.0</td>\n",
       "      <td>0.0</td>\n",
       "      <td>0.0</td>\n",
       "      <td>1.0</td>\n",
       "      <td>0.0</td>\n",
       "      <td>0.916667</td>\n",
       "      <td>0.0</td>\n",
       "    </tr>\n",
       "    <tr>\n",
       "      <th>7</th>\n",
       "      <td>0.666667</td>\n",
       "      <td>0.503445</td>\n",
       "      <td>0.5625</td>\n",
       "      <td>0.230769</td>\n",
       "      <td>0.865385</td>\n",
       "      <td>0.948718</td>\n",
       "      <td>0.0</td>\n",
       "      <td>0.0</td>\n",
       "      <td>0.0</td>\n",
       "      <td>0.0</td>\n",
       "      <td>...</td>\n",
       "      <td>0.0</td>\n",
       "      <td>0.0</td>\n",
       "      <td>0.0</td>\n",
       "      <td>0.0</td>\n",
       "      <td>0.0</td>\n",
       "      <td>0.0</td>\n",
       "      <td>1.0</td>\n",
       "      <td>1.0</td>\n",
       "      <td>0.416667</td>\n",
       "      <td>1.0</td>\n",
       "    </tr>\n",
       "  </tbody>\n",
       "</table>\n",
       "<p>5 rows × 31 columns</p>\n",
       "</div>"
      ],
      "text/plain": [
       "        age    fnlwgt   education-num   occupation   hours-per-week  \\\n",
       "2  0.487179  0.517863          0.5625     0.384615         0.769231   \n",
       "3  0.679487  0.563671          0.4375     0.384615         0.769231   \n",
       "4  0.358974  0.812672          0.8125     0.692308         0.769231   \n",
       "5  0.474359  0.683410          0.8750     0.230769         0.769231   \n",
       "7  0.666667  0.503445          0.5625     0.230769         0.865385   \n",
       "\n",
       "    native-country   workclass_ Local-gov   workclass_ Never-worked  \\\n",
       "2         0.948718                    0.0                       0.0   \n",
       "3         0.948718                    0.0                       0.0   \n",
       "4         0.102564                    0.0                       0.0   \n",
       "5         0.948718                    0.0                       0.0   \n",
       "7         0.948718                    0.0                       0.0   \n",
       "\n",
       "    workclass_ Private   workclass_ Self-emp-inc  ...  \\\n",
       "2                  1.0                       0.0  ...   \n",
       "3                  1.0                       0.0  ...   \n",
       "4                  1.0                       0.0  ...   \n",
       "5                  1.0                       0.0  ...   \n",
       "7                  0.0                       0.0  ...   \n",
       "\n",
       "    relationship_ Own-child   relationship_ Unmarried   relationship_ Wife  \\\n",
       "2                       0.0                       0.0                  0.0   \n",
       "3                       0.0                       0.0                  0.0   \n",
       "4                       0.0                       0.0                  1.0   \n",
       "5                       0.0                       0.0                  1.0   \n",
       "7                       0.0                       0.0                  0.0   \n",
       "\n",
       "    race_ Asian-Pac-Islander   race_ Black   race_ Other   race_ White  \\\n",
       "2                        0.0           0.0           0.0           1.0   \n",
       "3                        0.0           1.0           0.0           0.0   \n",
       "4                        0.0           1.0           0.0           0.0   \n",
       "5                        0.0           0.0           0.0           1.0   \n",
       "7                        0.0           0.0           0.0           1.0   \n",
       "\n",
       "    sex_ Male  education  income  \n",
       "2         1.0   0.416667     0.0  \n",
       "3         1.0   0.250000     0.0  \n",
       "4         0.0   0.833333     0.0  \n",
       "5         0.0   0.916667     0.0  \n",
       "7         1.0   0.416667     1.0  \n",
       "\n",
       "[5 rows x 31 columns]"
      ]
     },
     "execution_count": 345,
     "metadata": {},
     "output_type": "execute_result"
    }
   ],
   "source": [
    "# scale numerics\n",
    "for col in data.columns:\n",
    "            mxv = data[col].max()\n",
    "            data[col] = data[col] / mxv\n",
    "\n",
    "# check\n",
    "data.head()"
   ]
  },
  {
   "cell_type": "markdown",
   "id": "13f2b048",
   "metadata": {},
   "source": [
    "## Preprocessing is now done. Now, it's about getting X and Y, train/test splitting, and doing the models."
   ]
  },
  {
   "cell_type": "code",
   "execution_count": 346,
   "id": "ba8b7ae6",
   "metadata": {},
   "outputs": [
    {
     "name": "stdout",
     "output_type": "stream",
     "text": [
      "(15203, 30) (15203,)\n",
      "(3801, 30) (3801,)\n"
     ]
    }
   ],
   "source": [
    "# separate X and Y by features and target\n",
    "X = data.drop(columns=['income'])\n",
    "y = data['income']\n",
    "\n",
    "# separate x and y into train and test\n",
    "X_train, X_test, y_train, y_test = train_test_split(X, y, test_size=0.2)\n",
    "print(X_train.shape, y_train.shape)\n",
    "print(X_test.shape, y_test.shape)"
   ]
  },
  {
   "cell_type": "markdown",
   "id": "c04f12f3",
   "metadata": {},
   "source": [
    "## KNN: around 84% / 84% train/test consistently"
   ]
  },
  {
   "cell_type": "code",
   "execution_count": 349,
   "id": "a495eb57",
   "metadata": {},
   "outputs": [
    {
     "name": "stdout",
     "output_type": "stream",
     "text": [
      "Train Accuracy: 0.8425968558837071 Test Accuracy: 0.8403051828466193\n"
     ]
    }
   ],
   "source": [
    "from sklearn.neighbors import KNeighborsClassifier\n",
    "from sklearn.metrics import accuracy_score\n",
    "\n",
    "knn = KNeighborsClassifier(n_neighbors=37)\n",
    "knn.fit(X_train, y_train)\n",
    "y_pred_train = knn.predict(X_train)\n",
    "y_pred_test = knn.predict(X_test)\n",
    "\n",
    "# Model Evaluation:\n",
    "print('Train Accuracy:', accuracy_score(y_train, y_pred_train), \n",
    "      'Test Accuracy:', accuracy_score(y_test, y_pred_test))"
   ]
  },
  {
   "cell_type": "markdown",
   "id": "dd32e188",
   "metadata": {},
   "source": [
    "## Logistic Regression: around 83% / 84% train/test consistently"
   ]
  },
  {
   "cell_type": "code",
   "execution_count": 352,
   "id": "9bcd2554",
   "metadata": {},
   "outputs": [
    {
     "name": "stdout",
     "output_type": "stream",
     "text": [
      "Train Accuracy: 0.833322370584753 Test Accuracy: 0.8410944488292554\n"
     ]
    }
   ],
   "source": [
    "from sklearn.linear_model import LogisticRegression\n",
    "lr = LogisticRegression(max_iter=999)\n",
    "lr.fit(X_train, y_train)\n",
    "y_pred_train = lr.predict(X_train)\n",
    "y_pred_test = lr.predict(X_test)\n",
    "\n",
    "# Model evaluation:\n",
    "print('Train Accuracy:', accuracy_score(y_train, y_pred_train), \n",
    "      'Test Accuracy:', accuracy_score(y_test, y_pred_test))  "
   ]
  },
  {
   "cell_type": "markdown",
   "id": "7a3d942d",
   "metadata": {},
   "source": [
    "## Random Forest: around 83% / 84% train/test consistently"
   ]
  },
  {
   "cell_type": "code",
   "execution_count": 355,
   "id": "f11e239b",
   "metadata": {},
   "outputs": [
    {
     "name": "stdout",
     "output_type": "stream",
     "text": [
      "Train Accuracy: 0.8311517463658489 Test Accuracy: 0.842409892133649\n"
     ]
    }
   ],
   "source": [
    "from sklearn.ensemble import RandomForestClassifier\n",
    "rf = RandomForestClassifier(n_estimators=150, max_depth=5)\n",
    "rf.fit(X_train, y_train)\n",
    "y_pred_train = rf.predict(X_train)\n",
    "y_pred_test = rf.predict(X_test)\n",
    "\n",
    "# Model Evaluation:\n",
    "print('Train Accuracy:', accuracy_score(y_train, y_pred_train), \n",
    "      'Test Accuracy:', accuracy_score(y_test, y_pred_test))"
   ]
  },
  {
   "cell_type": "markdown",
   "id": "edcb2ce6",
   "metadata": {},
   "source": [
    "## XGBoost: around 86% / 85% train/test consistently"
   ]
  },
  {
   "cell_type": "code",
   "execution_count": 358,
   "id": "56d762ac",
   "metadata": {},
   "outputs": [
    {
     "name": "stdout",
     "output_type": "stream",
     "text": [
      "Train Accuracy: 0.8620666973623627 Test Accuracy: 0.8521441725861615\n"
     ]
    }
   ],
   "source": [
    "import xgboost as xgb\n",
    "xgb_model = xgb.XGBClassifier(n_estimators=200, learning_rate=0.05, max_depth=5)\n",
    "xgb_model.fit(X_train, y_train)\n",
    "y_pred_train = xgb_model.predict(X_train)\n",
    "y_pred_test = xgb_model.predict(X_test)\n",
    "\n",
    "# Model Evaluation: \n",
    "print('Train Accuracy:', accuracy_score(y_train, y_pred_train), \n",
    "      'Test Accuracy:', accuracy_score(y_test, y_pred_test))"
   ]
  },
  {
   "cell_type": "markdown",
   "id": "4246aae8",
   "metadata": {},
   "source": [
    "## For Neural Network, tensor conversion and class setup is necessary."
   ]
  },
  {
   "cell_type": "code",
   "execution_count": 406,
   "id": "c241d47d",
   "metadata": {},
   "outputs": [
    {
     "name": "stdout",
     "output_type": "stream",
     "text": [
      "Using device: cpu\n"
     ]
    }
   ],
   "source": [
    "device = torch.device('cuda' if torch.cuda.is_available() else 'cpu')\n",
    "print(f'Using device: {device}')"
   ]
  },
  {
   "cell_type": "code",
   "execution_count": 407,
   "id": "3c6f4a57",
   "metadata": {},
   "outputs": [
    {
     "name": "stdout",
     "output_type": "stream",
     "text": [
      "torch.Size([15203, 30])\n",
      "torch.Size([3801, 30])\n",
      "torch.Size([15203, 1])\n",
      "torch.Size([3801, 1])\n"
     ]
    }
   ],
   "source": [
    "# change to numpy arrays first\n",
    "xtrt = X_train.to_numpy()\n",
    "xtst = X_test.to_numpy()\n",
    "ytrt = y_train.to_numpy()\n",
    "ytst = y_test.to_numpy()\n",
    "\n",
    "# define tensors for train & test sets\n",
    "X_train_t = torch.tensor(xtrt, dtype = torch.float32).to(device)\n",
    "X_test_t = torch.tensor(xtst, dtype=torch.float32).to(device)\n",
    "# view here ensures y is only the income\n",
    "y_train_t = torch.tensor(ytrt, dtype=torch.float32).view(-1, 1).to(device)\n",
    "y_test_t = torch.tensor(ytst, dtype=torch.float32).view(-1, 1).to(device)\n",
    "\n",
    "print(X_train_t.shape)\n",
    "print(X_test_t.shape)\n",
    "print(y_train_t.shape)\n",
    "print(y_test_t.shape)"
   ]
  },
  {
   "cell_type": "code",
   "execution_count": 408,
   "id": "b220cd5a",
   "metadata": {},
   "outputs": [],
   "source": [
    "# define neural network class\n",
    "class nnIC(nn.Module):\n",
    "    # initializing constructor\n",
    "    def __init__(self):\n",
    "        # initialize parent\n",
    "        super().__init__()\n",
    "        self.layer1 = nn.Linear(30, 20)\n",
    "        self.layer2 = nn.Linear(20, 15)\n",
    "        self.layer3 = nn.Linear(15, 10)\n",
    "        self.layer4 = nn.Linear(10, 5)\n",
    "        self.layer5 = nn.Linear(5, 1)\n",
    "    def forward(self, x):\n",
    "        # multiplies inputted x by weights and adds bias\n",
    "        x = self.layer1(x)\n",
    "        x = self.layer2(x)\n",
    "        x = self.layer3(x)\n",
    "        x = self.layer4(x)\n",
    "        x = self.layer5(x)\n",
    "        return F.sigmoid(x)"
   ]
  },
  {
   "cell_type": "markdown",
   "id": "a162338b",
   "metadata": {},
   "source": [
    "## Neural Network: consistent train / test loss of about 0.34 / 0.34"
   ]
  },
  {
   "cell_type": "code",
   "execution_count": 412,
   "id": "24448d0d",
   "metadata": {},
   "outputs": [],
   "source": [
    "# training of neural network\n",
    "model = nnIC().to(device)\n",
    "loss = nn.BCELoss() # binary cross entropy is used for classification\n",
    "optimizer = torch.optim.Adam(model.parameters(), lr = 0.01) "
   ]
  },
  {
   "cell_type": "code",
   "execution_count": 413,
   "id": "7190c69d",
   "metadata": {},
   "outputs": [
    {
     "name": "stdout",
     "output_type": "stream",
     "text": [
      "loss = 0.354406476020813\n",
      "loss = 0.3479243516921997\n",
      "loss = 0.34707126021385193\n",
      "loss = 0.3469681441783905\n",
      "loss = 0.3471136689186096\n",
      "loss = 0.34695133566856384\n",
      "loss = 0.34695836901664734\n",
      "loss = 0.3469509482383728\n",
      "loss = 0.34695157408714294\n",
      "loss = 0.3470097482204437\n"
     ]
    }
   ],
   "source": [
    "# finish training of model\n",
    "# num of times to loop\n",
    "epochs = 1000\n",
    "# loop of run model\n",
    "for epoch in range(epochs):\n",
    "    y_pred = model(X_train_t) # get predicted y value in model\n",
    "    loss_fn = loss(y_pred, y_train_t) # 1/n * (y - yp)^2\n",
    "    optimizer.zero_grad() # zero out gradient in network\n",
    "    loss_fn.backward() # compute derivatives\n",
    "    optimizer.step() # Update weights\n",
    "    if ((epoch+1) % 100 == 0):\n",
    "        print(\"loss =\", loss_fn.item())"
   ]
  },
  {
   "cell_type": "code",
   "execution_count": 414,
   "id": "e6098a15",
   "metadata": {},
   "outputs": [
    {
     "name": "stdout",
     "output_type": "stream",
     "text": [
      "test loss = tensor(0.3409)\n"
     ]
    }
   ],
   "source": [
    "with torch.no_grad():\n",
    "    y_pred = model(X_test_t)\n",
    "loss_fn = loss(y_pred, y_test_t)\n",
    "print(\"test loss =\", loss_fn)"
   ]
  }
 ],
 "metadata": {
  "kernelspec": {
   "display_name": "Python 3",
   "language": "python",
   "name": "python3"
  },
  "language_info": {
   "codemirror_mode": {
    "name": "ipython",
    "version": 3
   },
   "file_extension": ".py",
   "mimetype": "text/x-python",
   "name": "python",
   "nbconvert_exporter": "python",
   "pygments_lexer": "ipython3",
   "version": "3.13.3"
  }
 },
 "nbformat": 4,
 "nbformat_minor": 5
}
